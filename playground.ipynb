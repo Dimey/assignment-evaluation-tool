{
 "cells": [
  {
   "cell_type": "code",
   "execution_count": null,
   "metadata": {},
   "outputs": [],
   "source": [
    "import json\n",
    "\n",
    "y = json.loads('json-mock-data/tasks.json')"
   ]
  },
  {
   "cell_type": "code",
   "execution_count": 5,
   "metadata": {},
   "outputs": [],
   "source": [
    "json_file_path = \"json-mock-data/tasks.json\"\n",
    "\n",
    "with open(json_file_path, 'r') as j:\n",
    "     contents = json.loads(j.read())"
   ]
  },
  {
   "cell_type": "code",
   "execution_count": 11,
   "metadata": {},
   "outputs": [
    {
     "data": {
      "text/plain": [
       "[{'taskTitle': 'Aufgabe 1',\n",
       "  'subTasks': [{'subTaskTitle': 'Aufgabe 1.1', 'subTaskMaxPoints': 10},\n",
       "   {'subTaskTitle': 'Aufgabe 1.2', 'subTaskMaxPoints': 9},\n",
       "   {'subTaskTitle': 'Aufgabe 1.3', 'subTaskMaxPoints': 3}]},\n",
       " {'taskTitle': 'Aufgabe 2',\n",
       "  'subTasks': [{'subTaskTitle': 'Aufgabe 2.1', 'subTaskMaxPoints': 3},\n",
       "   {'subTaskTitle': 'Aufgabe 2.2', 'subTaskMaxPoints': 5},\n",
       "   {'subTaskTitle': 'Aufgabe 2.3', 'subTaskMaxPoints': 12},\n",
       "   {'subTaskTitle': 'Aufgabe 2.4', 'subTaskMaxPoints': 2}]}]"
      ]
     },
     "execution_count": 11,
     "metadata": {},
     "output_type": "execute_result"
    }
   ],
   "source": [
    "contents['tasks']"
   ]
  }
 ],
 "metadata": {
  "kernelspec": {
   "display_name": "Python 3.8.8 ('cv2')",
   "language": "python",
   "name": "python3"
  },
  "language_info": {
   "codemirror_mode": {
    "name": "ipython",
    "version": 3
   },
   "file_extension": ".py",
   "mimetype": "text/x-python",
   "name": "python",
   "nbconvert_exporter": "python",
   "pygments_lexer": "ipython3",
   "version": "3.10.6"
  },
  "orig_nbformat": 4,
  "vscode": {
   "interpreter": {
    "hash": "bfb8d1be4eb0ff16f97c4dda2fb2f596bde776d9e9c6cb0685fa2170af943a35"
   }
  }
 },
 "nbformat": 4,
 "nbformat_minor": 2
}
